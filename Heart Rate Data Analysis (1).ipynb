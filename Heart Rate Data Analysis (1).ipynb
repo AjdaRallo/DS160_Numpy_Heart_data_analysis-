{
 "cells": [
  {
   "cell_type": "markdown",
   "id": "f4dcc78a",
   "metadata": {},
   "source": [
    "# Data Analysis for Heart Rate"
   ]
  },
  {
   "cell_type": "code",
   "execution_count": 4,
   "id": "52e3e018",
   "metadata": {},
   "outputs": [],
   "source": [
    "import numpy as np"
   ]
  },
  {
   "cell_type": "markdown",
   "id": "611205af",
   "metadata": {},
   "source": [
    "## Hypothesis\n",
    "### The older in age a male participant is, and the higher their cholesterol levels, the more likely they are to get heart disease"
   ]
  },
  {
   "cell_type": "code",
   "execution_count": 5,
   "id": "303d7075",
   "metadata": {},
   "outputs": [],
   "source": [
    "#Load the data into notebook\n",
    "data=np.genfromtxt(\"heart.csv\", delimiter=\",\", skip_header=True)"
   ]
  },
  {
   "cell_type": "markdown",
   "id": "8147abe1",
   "metadata": {},
   "source": [
    "### Extracting Relevant Columns"
   ]
  },
  {
   "cell_type": "code",
   "execution_count": 7,
   "id": "98458528",
   "metadata": {},
   "outputs": [
    {
     "name": "stdout",
     "output_type": "stream",
     "text": [
      "age: [63. 37. 41. 56. 57.]\n",
      "sex: [1. 1. 0. 1. 0.]\n",
      "Resting Heatrate: [145. 130. 130. 120. 120.]\n",
      "Cholesterol levels: [233. 250. 204. 236. 354.]\n",
      "thalach: [150. 187. 172. 178. 163.]\n",
      "target: [1. 1. 1. 1. 1.]\n"
     ]
    }
   ],
   "source": [
    "age=data[:,0]\n",
    "print(f\"age: {age[:5]}\")\n",
    "sex=data[:,1]\n",
    "print(f\"sex: {sex[:5]}\")\n",
    "resting_heartrate=data[:,3]\n",
    "print(f\"Resting Heatrate: {resting_heartrate[:5]}\")\n",
    "chol=data[:,4]\n",
    "print(f\"Cholesterol levels: {chol[:5]}\")\n",
    "thalach=data[:,7]\n",
    "print(f\"thalach: {thalach[:5]}\")\n",
    "target=data[:,-1]\n",
    "print(f\"target: {target[:5]}\")"
   ]
  },
  {
   "cell_type": "markdown",
   "id": "1535aa4c",
   "metadata": {},
   "source": [
    "### Basic Descriptive Statistics (for each column)"
   ]
  },
  {
   "cell_type": "code",
   "execution_count": 8,
   "id": "d93327fc",
   "metadata": {},
   "outputs": [
    {
     "name": "stdout",
     "output_type": "stream",
     "text": [
      "---Basic Descriptive Statistics on age--- \n",
      " Mean, 54\n",
      " Median, 55\n",
      " Standard Deviation 9\n",
      " Min: 29.0\n",
      " Max: 77.0\n"
     ]
    }
   ],
   "source": [
    "print(\"---Basic Descriptive Statistics on age--- \")\n",
    "print(f\" Mean, {round(np.mean(age))}\")\n",
    "print(f\" Median, {round(np.median(age))}\")\n",
    "print(f\" Standard Deviation {round(np.std(age))}\")\n",
    "print(f\" Min: {np.min(age)}\")\n",
    "print(f\" Max: {np.max(age)}\")"
   ]
  },
  {
   "cell_type": "code",
   "execution_count": 10,
   "id": "7d6a13ff",
   "metadata": {},
   "outputs": [
    {
     "name": "stdout",
     "output_type": "stream",
     "text": [
      "---Basic Descriptive Statistics on sex---\n",
      " Mean, 1\n",
      " Median, 1\n",
      " Standard Deviation 0\n",
      " Min: 0.0\n",
      " Max: 1.0\n"
     ]
    }
   ],
   "source": [
    "print(\"---Basic Descriptive Statistics on sex---\")\n",
    "print(f\" Mean, {round(np.mean(sex))}\")\n",
    "print(f\" Median, {round(np.median(sex))}\")\n",
    "print(f\" Standard Deviation {round(np.std(sex))}\")\n",
    "print(f\" Min: {np.min(sex)}\")\n",
    "print(f\" Max: {np.max(sex)}\")"
   ]
  },
  {
   "cell_type": "code",
   "execution_count": 11,
   "id": "e246a774",
   "metadata": {},
   "outputs": [
    {
     "name": "stdout",
     "output_type": "stream",
     "text": [
      "---Basic Descriptive Statistics on heartrate--- \n",
      " Mean, 132\n",
      " Median, 130\n",
      " Standard Deviation 18\n",
      " Min: 94.0\n",
      " Max: 200.0\n"
     ]
    }
   ],
   "source": [
    "print(\"---Basic Descriptive Statistics on heartrate--- \")\n",
    "print(f\" Mean, {round(np.mean(resting_heartrate))}\")\n",
    "print(f\" Median, {round(np.median(resting_heartrate))}\")\n",
    "print(f\" Standard Deviation {round(np.std(resting_heartrate))}\")\n",
    "print(f\" Min: {np.min(resting_heartrate)}\")\n",
    "print(f\" Max: {np.max(resting_heartrate)}\")"
   ]
  },
  {
   "cell_type": "code",
   "execution_count": 12,
   "id": "a304bd96",
   "metadata": {},
   "outputs": [
    {
     "name": "stdout",
     "output_type": "stream",
     "text": [
      "---Basic Descriptive Statistics on cholesterol levels--- \n",
      " Mean, 246\n",
      " Median, 240\n",
      " Standard Deviation 52\n",
      " Min: 126.0\n",
      " Max: 564.0\n"
     ]
    }
   ],
   "source": [
    "print(\"---Basic Descriptive Statistics on cholesterol levels--- \")\n",
    "print(f\" Mean, {round(np.mean(chol))}\")\n",
    "print(f\" Median, {round(np.median(chol))}\")\n",
    "print(f\" Standard Deviation {round(np.std(chol))}\")\n",
    "print(f\" Min: {np.min(chol)}\")\n",
    "print(f\" Max: {np.max(chol)}\")"
   ]
  },
  {
   "cell_type": "code",
   "execution_count": 14,
   "id": "57511cb0",
   "metadata": {},
   "outputs": [
    {
     "name": "stdout",
     "output_type": "stream",
     "text": [
      "---Basic Descriptive Statistics on thalach--- \n",
      " Mean, 150\n",
      " Median, 153\n",
      " Standard Deviation 23\n",
      " Min: 71.0\n",
      " Max: 202.0\n"
     ]
    }
   ],
   "source": [
    "print(\"---Basic Descriptive Statistics on thalach--- \")\n",
    "print(f\" Mean, {round(np.mean(thalach))}\")\n",
    "print(f\" Median, {round(np.median(thalach))}\")\n",
    "print(f\" Standard Deviation {round(np.std(thalach))}\")\n",
    "print(f\" Min: {np.min(thalach)}\")\n",
    "print(f\" Max: {np.max(thalach)}\")"
   ]
  },
  {
   "cell_type": "code",
   "execution_count": 15,
   "id": "9dfb1a04",
   "metadata": {},
   "outputs": [
    {
     "name": "stdout",
     "output_type": "stream",
     "text": [
      "---Basic Descriptive Statistics on target--- \n",
      " Mean, 1\n",
      " Median, 1\n",
      " Standard Deviation 0\n",
      " Min: 0.0\n",
      " Max: 1.0\n"
     ]
    }
   ],
   "source": [
    "print(\"---Basic Descriptive Statistics on target--- \")\n",
    "print(f\" Mean, {round(np.mean(target))}\")\n",
    "print(f\" Median, {round(np.median(target))}\")\n",
    "print(f\" Standard Deviation {round(np.std(target))}\")\n",
    "print(f\" Min: {np.min(target)}\")\n",
    "print(f\" Max: {np.max(target)}\")"
   ]
  },
  {
   "cell_type": "markdown",
   "id": "9175d8b2",
   "metadata": {},
   "source": [
    "### Data Filtering"
   ]
  },
  {
   "cell_type": "code",
   "execution_count": 17,
   "id": "92f5be2a",
   "metadata": {},
   "outputs": [
    {
     "name": "stdout",
     "output_type": "stream",
     "text": [
      "# of rows before filtering... 303\n"
     ]
    }
   ],
   "source": [
    "print(f\"# of rows before filtering... {len(data)}\")"
   ]
  },
  {
   "cell_type": "code",
   "execution_count": 43,
   "id": "f765a400",
   "metadata": {},
   "outputs": [
    {
     "name": "stdout",
     "output_type": "stream",
     "text": [
      "Number of rows after filtering: 28\n"
     ]
    }
   ],
   "source": [
    "# How many male patients with age above 50 and resting heartrate above 130\n",
    "filtered_data=data[(age>50) & (sex==0) & (chol>250) & (target==1)]\n",
    "print(f\"Number of rows after filtering: {len(filtered_data)}\")"
   ]
  },
  {
   "cell_type": "code",
   "execution_count": 44,
   "id": "78d4075c",
   "metadata": {},
   "outputs": [
    {
     "name": "stdout",
     "output_type": "stream",
     "text": [
      "Number of rows after filtering: 13\n"
     ]
    }
   ],
   "source": [
    "# How many male patients with age above 50 and resting heartrate above 130\n",
    "filtered_data=data[(age>50) & (sex==0) & (chol>250) & (target==0)]\n",
    "print(f\"Number of rows after filtering: {len(filtered_data)}\")"
   ]
  },
  {
   "cell_type": "code",
   "execution_count": 45,
   "id": "22975022",
   "metadata": {},
   "outputs": [
    {
     "name": "stdout",
     "output_type": "stream",
     "text": [
      "Number of rows after filtering: 12\n"
     ]
    }
   ],
   "source": [
    "# How many female patients with age above 50 and resting heartrate above 130\n",
    "filtered_data=data[(age>50) & (sex==1) & (chol>250) & (target==1)]\n",
    "print(f\"Number of rows after filtering: {len(filtered_data)}\")"
   ]
  },
  {
   "cell_type": "code",
   "execution_count": 47,
   "id": "9439c76b",
   "metadata": {},
   "outputs": [
    {
     "name": "stdout",
     "output_type": "stream",
     "text": [
      "Number of rows after filtering: 45\n"
     ]
    }
   ],
   "source": [
    "# How many female patients with age above 50 and resting heartrate above 130\n",
    "filtered_data=data[(age>50) & (sex==1) & (chol>250) & (target==0)]\n",
    "print(f\"Number of rows after filtering: {len(filtered_data)}\")"
   ]
  },
  {
   "cell_type": "markdown",
   "id": "d4235115",
   "metadata": {},
   "source": [
    "### Number of Unique Categories"
   ]
  },
  {
   "cell_type": "code",
   "execution_count": 21,
   "id": "8286a075",
   "metadata": {},
   "outputs": [
    {
     "name": "stdout",
     "output_type": "stream",
     "text": [
      "Unique resting heartrate counts: [ 94. 100. 101. 102. 104. 105. 106. 108. 110. 112. 114. 115. 117. 118.\n",
      " 120. 122. 123. 124. 125. 126. 128. 129. 130. 132. 134. 135. 136. 138.\n",
      " 140. 142. 144. 145. 146. 148. 150. 152. 154. 155. 156. 160. 164. 165.\n",
      " 170. 172. 174. 178. 180. 192. 200.]\n",
      "How many unique resting heartrates: 49\n"
     ]
    }
   ],
   "source": [
    "print(f\"Unique resting heartrate counts: {np.unique(resting_heartrate)}\")\n",
    "print(f\"How many unique resting heartrates: {len(np.unique(resting_heartrate))}\")"
   ]
  },
  {
   "cell_type": "code",
   "execution_count": 22,
   "id": "44567860",
   "metadata": {},
   "outputs": [
    {
     "name": "stdout",
     "output_type": "stream",
     "text": [
      "Unique cholesterol level counts: [126. 131. 141. 149. 157. 160. 164. 166. 167. 168. 169. 172. 174. 175.\n",
      " 176. 177. 178. 180. 182. 183. 184. 185. 186. 187. 188. 192. 193. 195.\n",
      " 196. 197. 198. 199. 200. 201. 203. 204. 205. 206. 207. 208. 209. 210.\n",
      " 211. 212. 213. 214. 215. 216. 217. 218. 219. 220. 221. 222. 223. 224.\n",
      " 225. 226. 227. 228. 229. 230. 231. 232. 233. 234. 235. 236. 237. 239.\n",
      " 240. 241. 242. 243. 244. 245. 246. 247. 248. 249. 250. 252. 253. 254.\n",
      " 255. 256. 257. 258. 259. 260. 261. 262. 263. 264. 265. 266. 267. 268.\n",
      " 269. 270. 271. 273. 274. 275. 276. 277. 278. 281. 282. 283. 284. 286.\n",
      " 288. 289. 290. 293. 294. 295. 298. 299. 300. 302. 303. 304. 305. 306.\n",
      " 307. 308. 309. 311. 313. 315. 318. 319. 321. 322. 325. 326. 327. 330.\n",
      " 335. 340. 341. 342. 353. 354. 360. 394. 407. 409. 417. 564.]\n",
      "How many unique cjolesterol levels: 152\n"
     ]
    }
   ],
   "source": [
    "print(f\"Unique cholesterol level counts: {np.unique(chol)}\")\n",
    "print(f\"How many unique cjolesterol levels: {len(np.unique(chol))}\")"
   ]
  },
  {
   "cell_type": "code",
   "execution_count": 23,
   "id": "c979b497",
   "metadata": {},
   "outputs": [
    {
     "name": "stdout",
     "output_type": "stream",
     "text": [
      "Unique thalach counts: [ 71.  88.  90.  95.  96.  97.  99. 103. 105. 106. 108. 109. 111. 112.\n",
      " 113. 114. 115. 116. 117. 118. 120. 121. 122. 123. 124. 125. 126. 127.\n",
      " 128. 129. 130. 131. 132. 133. 134. 136. 137. 138. 139. 140. 141. 142.\n",
      " 143. 144. 145. 146. 147. 148. 149. 150. 151. 152. 153. 154. 155. 156.\n",
      " 157. 158. 159. 160. 161. 162. 163. 164. 165. 166. 167. 168. 169. 170.\n",
      " 171. 172. 173. 174. 175. 177. 178. 179. 180. 181. 182. 184. 185. 186.\n",
      " 187. 188. 190. 192. 194. 195. 202.]\n",
      "How many unique thalach levels: 91\n"
     ]
    }
   ],
   "source": [
    "print(f\"Unique thalach counts: {np.unique(thalach)}\")\n",
    "print(f\"How many unique thalach levels: {len(np.unique(thalach))}\")"
   ]
  },
  {
   "cell_type": "code",
   "execution_count": 36,
   "id": "1ee075de",
   "metadata": {},
   "outputs": [
    {
     "name": "stdout",
     "output_type": "stream",
     "text": [
      "Corr thalach and cholesterol levels: [[ 1.         -0.00993984]\n",
      " [-0.00993984  1.        ]]\n"
     ]
    }
   ],
   "source": [
    "# Default rowvar= True ( calculate the corelation for each rows)\n",
    "# rowvar= False (each column represent a variable)\n",
    "\n",
    "corr_heartdisease=np.corrcoef(thalach,chol,rowvar=False)\n",
    "print(f\"Corr thalach and cholesterol levels: {corr_heartdisease}\")"
   ]
  },
  {
   "cell_type": "markdown",
   "id": "8cf24b39",
   "metadata": {},
   "source": [
    "###  Correlation Analysis\n",
    "- Age and cholesterol levels: 21% (weak positive)\n",
    "- Resting Heartrate and cholesterol levels: 12% (weak positive)\n",
    "- Thalach and cholesterol levels:  -0.9% (Extremely weak negative)"
   ]
  },
  {
   "cell_type": "markdown",
   "id": "df089736",
   "metadata": {},
   "source": [
    "## Summary\n",
    "- Initially, in our hypothesis we said that the older a male participant is and the higher their cholesterol levels, the more likely a patient is to get heart disease. After going through and testing the data, we realized that this was not the case and there is actually a completely different correlation between people getting heart disease. However, after analyzing the difference in these statistics between male and female patients, we saw more of a correlation between the male patients that are older and have higher cholesterol levels having heart disease, compared to the females that are older and have high cholesterol levels."
   ]
  }
 ],
 "metadata": {
  "kernelspec": {
   "display_name": "Python 3 (ipykernel)",
   "language": "python",
   "name": "python3"
  },
  "language_info": {
   "codemirror_mode": {
    "name": "ipython",
    "version": 3
   },
   "file_extension": ".py",
   "mimetype": "text/x-python",
   "name": "python",
   "nbconvert_exporter": "python",
   "pygments_lexer": "ipython3",
   "version": "3.11.4"
  }
 },
 "nbformat": 4,
 "nbformat_minor": 5
}
